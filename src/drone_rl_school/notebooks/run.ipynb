{
 "cells": [
  {
   "cell_type": "code",
   "execution_count": null,
   "id": "1db47f52",
   "metadata": {},
   "outputs": [],
   "source": [
    "# Auto reload modules\n",
    "%load_ext autoreload\n",
    "%autoreload 2\n",
    "\n",
    "# Set the matplotlib backend\n",
    "%matplotlib widget\n",
    "\n",
    "import hydra\n",
    "from drone_rl_school.agents.dqn import DQNAgent, ReplayBuffer\n",
    "from drone_rl_school.agents.pid import PIDAgent\n",
    "from drone_rl_school.envs.drone_env.v0 import PointMassEnv\n",
    "from drone_rl_school.agents.q_learning import QLearningAgent\n",
    "from drone_rl_school.train.train import train\n",
    "import numpy as np\n",
    "import matplotlib.pyplot as plt\n",
    "from datetime import datetime\n",
    "from omegaconf import OmegaConf\n",
    "import os\n",
    "import subprocess\n",
    "from torch.utils.tensorboard import SummaryWriter"
   ]
  },
  {
   "cell_type": "code",
   "execution_count": null,
   "id": "19a395bd",
   "metadata": {},
   "outputs": [],
   "source": [
    "# Initialize Hydra and get the config\n",
    "with hydra.initialize(config_path=\"../configs\", version_base=None):\n",
    "    cfg = hydra.compose(config_name=\"config\")\n",
    "\n",
    "# Prepare the logging directory\n",
    "commit = subprocess.check_output([\"git\", \"rev-parse\", \"HEAD\"]).decode().strip()\n",
    "timestamp = datetime.now().strftime(\"%Y%m%d_%H%M%S\")\n",
    "exp_name  = f\"{timestamp}_{cfg.agent.type}_{commit[:7]}\"\n",
    "log_dir   = os.path.join(cfg.run.log_root, exp_name)\n",
    "os.makedirs(log_dir, exist_ok=True)\n",
    "\n",
    "# Save a frozen copy of the config\n",
    "with open(os.path.join(log_dir, \"config.yaml\"), \"w\") as fp:\n",
    "    fp.write(OmegaConf.to_yaml(cfg))\n",
    "\n",
    "# Create the actual tensorboard logger\n",
    "writer = SummaryWriter(log_dir)    # run in terminal: \"tensorboard --logdir=runs\", address: http://localhost:6006\n",
    "\n",
    "# Set up the environment\n",
    "random_seed = cfg.env.random_number_generator_seed\n",
    "env = PointMassEnv(cfg, random_seed)\n",
    "\n",
    "next_episode_to_train = 0\n",
    "best_score = float('-inf')\n",
    "\n",
    "buffer = None\n",
    "\n",
    "# Define the agent\n",
    "if cfg.agent.type == 'dqn':    \n",
    "    agent = DQNAgent(cfg)\n",
    "    buffer = ReplayBuffer(cfg)\n",
    "elif cfg.agent.type == 'q_learning':\n",
    "    agent = QLearningAgent(cfg)\n",
    "elif cfg.agent.type == 'pid':\n",
    "    agent = PIDAgent(cfg)"
   ]
  },
  {
   "cell_type": "code",
   "execution_count": null,
   "id": "e21b5fe7",
   "metadata": {},
   "outputs": [],
   "source": [
    "# Run one training loop\n",
    "last_episode, rewards, best_score = train(agent, env, writer, cfg,\n",
    "                start_episode=next_episode_to_train, best_score=best_score,\n",
    "                buffer=buffer)\n",
    "next_episode_to_train = last_episode + 1"
   ]
  },
  {
   "cell_type": "code",
   "execution_count": null,
   "id": "30846f7a",
   "metadata": {},
   "outputs": [],
   "source": [
    "# Run a simulation\n",
    "trajectories = [env.simulate(agent) for _ in range(3)]\n",
    "env.animate(trajectories, env.goal, trajectory_names=['dqn'] * 3)"
   ]
  },
  {
   "cell_type": "code",
   "execution_count": null,
   "id": "4b6093ab",
   "metadata": {},
   "outputs": [],
   "source": [
    "# Run a simulation in comparison to a simple pid controller\n",
    "sim_seed = np.random.randint(100000)\n",
    "with hydra.initialize(config_path=\"../configs\", version_base=None):\n",
    "    pid_config = hydra.compose(config_name=\"config\", overrides=[\"agent=pid\"])\n",
    "# trajectories = [PointMassEnv(cfg, sim_seed).simulate(agent), PointMassEnv(pid_config, sim_seed).simulate(PIDAgent(pid_config))]\n",
    "trajectories = [PointMassEnv(pid_config, sim_seed).simulate(PIDAgent(pid_config))]\n",
    "# env.animate(trajectories, env.goal, trajectory_names=['dqn', 'pid'])\n",
    "env.animate(trajectories, env.goal, trajectory_names=['pid'])"
   ]
  }
 ],
 "metadata": {
  "kernelspec": {
   "display_name": ".venv",
   "language": "python",
   "name": "python3"
  },
  "language_info": {
   "codemirror_mode": {
    "name": "ipython",
    "version": 3
   },
   "file_extension": ".py",
   "mimetype": "text/x-python",
   "name": "python",
   "nbconvert_exporter": "python",
   "pygments_lexer": "ipython3",
   "version": "3.11.6"
  }
 },
 "nbformat": 4,
 "nbformat_minor": 5
}
